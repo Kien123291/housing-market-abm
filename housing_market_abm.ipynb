{
 "cells": [
  {
   "cell_type": "code",
   "execution_count": 3,
   "id": "92285c98-8ac0-47b6-b283-da1631439c39",
   "metadata": {},
   "outputs": [],
   "source": [
    "import numpy as np\n",
    "import pandas as pd\n",
    "import time\n",
    "import random\n",
    "from IPython.display import clear_output\n",
    "import matplotlib.pyplot as plt"
   ]
  },
  {
   "cell_type": "code",
   "execution_count": 11,
   "id": "eb1687ec-1e65-49dd-95d4-c29120702b5c",
   "metadata": {},
   "outputs": [],
   "source": [
    "\n",
    "HIGH_INCOME_THRESHOLD = 70000  # Threshold to categorize high vs low income\n",
    "CITY_MEDIAN_INCOME = 50000\n",
    "AFFORDABILITY_RATIO = 0.30  # Max 30% of income on rent\n",
    "\n",
    "\n",
    "class Household:\n",
    "    def __init__(self, id, income, amenity_pref, capacity, move_tolerance, stability, cost_sensitivity):\n",
    "        self.id = id\n",
    "        self.income = income\n",
    "        self.budget = AFFORDABILITY_RATIO * income\n",
    "        self.amenity_pref = amenity_pref      # weight for neighborhood amenity in utility \n",
    "        #self.move_tolerance = move_tolerance    # how much benefit required to justify moving\n",
    "        #self.capacity = capacity\n",
    "        self.stability = stability           # probability of considering a move\n",
    "        self.current_unit = None             # reference to current housing unit or location\n",
    "        self.time_since_move = 0 \n",
    "        self.cost_sensitivity = cost_sensitivity  # weight for rent cost in utility\n",
    "        self.current_unit = None\n",
    "\n",
    "        \n",
    "    "
   ]
  },
  {
   "cell_type": "code",
   "execution_count": 18,
   "id": "02e8d577-da43-414f-af61-819907463182",
   "metadata": {},
   "outputs": [],
   "source": [
    "class HousingUnit:\n",
    "    def __init__(self, id, neighborhood: 'Neighborhood', rent):\n",
    "        self.id = id\n",
    "        self.neighborhood = neighborhood\n",
    "        self.rent = rent\n",
    "        self.vacant = True\n",
    "        self.tenant = None"
   ]
  },
  {
   "cell_type": "code",
   "execution_count": 19,
   "id": "159e05ab-abc2-4b5d-b760-930d59d91fce",
   "metadata": {},
   "outputs": [],
   "source": [
    "     def calculate_utility(self, amenity, rent): #Calculate utility with normalized amenity and rent\n",
    "        normalized_amenity = amenity / 10  # assuming 0-10 scale\n",
    "        normalized_rent = rent / self.rent_budget  # rent as fraction of budget\n",
    "        utility = self.amenity_pref * normalized_amenity - self.cost_sensitivity * normalized_rent\n",
    "        return utility\n",
    "        "
   ]
  },
  {
   "cell_type": "code",
   "execution_count": 20,
   "id": "e0233806-5799-4a56-b58e-5de5eb421c77",
   "metadata": {},
   "outputs": [],
   "source": [
    "    def move_to(self, unit: HousingUnit):    #Move to a new unit\n",
    "        unit.vacant = False\n",
    "        unit.tenant = self\n",
    "        self.current_unit = unit\n"
   ]
  },
  {
   "cell_type": "code",
   "execution_count": 22,
   "id": "28dc2252-3813-4def-821c-a4fedddc4686",
   "metadata": {},
   "outputs": [],
   "source": [
    "    def decide_and_move(self, available_units: list[HousingUnit]):\n",
    "        if random.random() > (1 - self.stability) or self.time_since_move < 1:     # Only consider moving if stability trigger allows and not in cooldown\n",
    "            self.time_since_move += 1    # Stability condition not met or still in cooldown\n",
    "            return\n",
    "\n",
    "        if self.current_unit is None:\n",
    "            affordable = [u for u in housing_options \n",
    "                         if u.vacant and u.rent <= self.rent_budget]\n",
    "            if affordable:\n",
    "                best = max(affordable, \n",
    "                          key=lambda u: self.calculate_utility(u.neighborhood.amenity, u.rent))\n",
    "                self.move_to_unit(best)\n",
    "            return\n",
    "        # Calculate current utility with normalized values\n",
    "        curr_amenity = self.current_unit.neighborhood.amenity\n",
    "        curr_rent = self.current_unit.rent\n",
    "        current_utility = self.calculate_utility(curr_amenity, curr_rent)\n",
    "\n",
    "        best_unit = None\n",
    "        best_utility = current_utility\n",
    "\n",
    "        for unit in available_units:\n",
    "            if unit is self.current_unit or not unit.vacant:\n",
    "                continue\n",
    "            if unit.rent > self.budget:\n",
    "                continue\n",
    "            new_utility = self.calculate_utility(unit.neighborhood.amenity, unit.rent)\n",
    "            \n",
    "            # Only move if significantly better (moving cost = 0.2 utility points)\n",
    "            if new_utility - 0.2 > best_utility:\n",
    "                best_utility = new_utility\n",
    "                best_unit = unit\n",
    "\n",
    "        if best_unit:\n",
    "            self.current_unit.vacant = True\n",
    "            self.current_unit.tenant = None\n",
    "            self.move_to(best_unit)\n",
    "            \n",
    "        \n",
    "         "
   ]
  },
  {
   "cell_type": "code",
   "execution_count": 23,
   "id": "2e466bd2-564f-4f8f-9870-11d8623b8780",
   "metadata": {},
   "outputs": [],
   "source": [
    "class Landlord:\n",
    "    class Landlord:\n",
    "        def __init__(self, id, unit: HousingUnit):\n",
    "            self.id = id\n",
    "            self.unit = unit\n",
    "            self.unit.landlord = self\n",
    "            self.vacancy_count = 0\n",
    "            self.occupied_count = 0\n",
    "            self.base_rent = unit.rent  #remember initial rent\n",
    "            self.price_aggressiveness = random.uniform(0.5, 1.5)  #how reactive to the market\n",
    "            \n",
    "    \n",
    " \n"
   ]
  },
  {
   "cell_type": "code",
   "execution_count": null,
   "id": "4ed1ae86-8a60-4ac9-9ac8-3c127787cbac",
   "metadata": {},
   "outputs": [],
   "source": [
    "    def adjust_rent(self, demand_level, neighborhood_avg_rent):\n",
    "        if self.unit.vacant:\n",
    "            self.vacancy_count += 1\n",
    "            self.occupied_count\n",
    "            \n",
    "            if self.vacancy_count >= 3:\n",
    "                reduction = 0.06 * self.price_aggressiveness   #about 3 to 9 percent reduction\n",
    "                self.unit.rent = self.unit.rent * (1- reduction)\n",
    "                self.unit.rent = max(self.unit.rent, self.base_rent * 0.75)  # Don't go below 75% of base rent \n",
    "        else:\n",
    "            self.occupied_count += 1\n",
    "            self.vacancy_count = 0\n",
    "            \n",
    "       if demand_level\n",
    "\n"
   ]
  }
 ],
 "metadata": {
  "kernelspec": {
   "display_name": "Python [conda env:base] *",
   "language": "python",
   "name": "conda-base-py"
  },
  "language_info": {
   "codemirror_mode": {
    "name": "ipython",
    "version": 3
   },
   "file_extension": ".py",
   "mimetype": "text/x-python",
   "name": "python",
   "nbconvert_exporter": "python",
   "pygments_lexer": "ipython3",
   "version": "3.12.4"
  }
 },
 "nbformat": 4,
 "nbformat_minor": 5
}
